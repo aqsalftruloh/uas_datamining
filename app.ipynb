{
  "cells": [
    {
      "cell_type": "markdown",
      "metadata": {
        "id": "view-in-github",
        "colab_type": "text"
      },
      "source": [
        "<a href=\"https://colab.research.google.com/github/aqsalftruloh/uas_datamining/blob/main/app.ipynb\" target=\"_parent\"><img src=\"https://colab.research.google.com/assets/colab-badge.svg\" alt=\"Open In Colab\"/></a>"
      ]
    },
    {
      "cell_type": "code",
      "execution_count": 12,
      "id": "c1523aae",
      "metadata": {
        "colab": {
          "base_uri": "https://localhost:8080/",
          "height": 489
        },
        "id": "c1523aae",
        "outputId": "46f40d64-af71-4426-b2f7-bb9fc8c81bfc"
      },
      "outputs": [
        {
          "output_type": "stream",
          "name": "stdout",
          "text": [
            "\u001b[31mERROR: Could not find a version that satisfies the requirement youtube-comment-scraper-python (from versions: none)\u001b[0m\u001b[31m\n",
            "\u001b[0m\u001b[31mERROR: No matching distribution found for youtube-comment-scraper-python\u001b[0m\u001b[31m\n",
            "\u001b[0mError: Could not find the 'Senti' module. Make sure 'Senti.py' is in the same directory.\n"
          ]
        },
        {
          "output_type": "error",
          "ename": "ModuleNotFoundError",
          "evalue": "No module named 'youtube_comment_scraper_python'",
          "traceback": [
            "\u001b[0;31m---------------------------------------------------------------------------\u001b[0m",
            "\u001b[0;31mModuleNotFoundError\u001b[0m                       Traceback (most recent call last)",
            "\u001b[0;32m<ipython-input-12-cfc1d1520f4c>\u001b[0m in \u001b[0;36m<cell line: 12>\u001b[0;34m()\u001b[0m\n\u001b[1;32m     10\u001b[0m \u001b[0;34m\u001b[0m\u001b[0m\n\u001b[1;32m     11\u001b[0m \u001b[0;31m# Corrected import statement\u001b[0m\u001b[0;34m\u001b[0m\u001b[0;34m\u001b[0m\u001b[0m\n\u001b[0;32m---> 12\u001b[0;31m \u001b[0;32mfrom\u001b[0m \u001b[0myoutube_comment_scraper_python\u001b[0m \u001b[0;32mimport\u001b[0m \u001b[0;34m*\u001b[0m \u001b[0;31m# Import all functions from the corrected module name\u001b[0m\u001b[0;34m\u001b[0m\u001b[0;34m\u001b[0m\u001b[0m\n\u001b[0m\u001b[1;32m     13\u001b[0m \u001b[0;34m\u001b[0m\u001b[0m\n\u001b[1;32m     14\u001b[0m \u001b[0;31m# Rest of your code...\u001b[0m\u001b[0;34m\u001b[0m\u001b[0;34m\u001b[0m\u001b[0m\n",
            "\u001b[0;31mModuleNotFoundError\u001b[0m: No module named 'youtube_comment_scraper_python'",
            "",
            "\u001b[0;31m---------------------------------------------------------------------------\u001b[0;32m\nNOTE: If your import is failing due to a missing package, you can\nmanually install dependencies using either !pip or !apt.\n\nTo view examples of installing some common dependencies, click the\n\"Open Examples\" button below.\n\u001b[0;31m---------------------------------------------------------------------------\u001b[0m\n"
          ],
          "errorDetails": {
            "actions": [
              {
                "action": "open_url",
                "actionText": "Open Examples",
                "url": "/notebooks/snippets/importing_libraries.ipynb"
              }
            ]
          }
        }
      ],
      "source": [
        "!pip install youtube-comment-scraper-python\n",
        "import streamlit as st\n",
        "import os\n",
        "\n",
        "# Assuming 'Senti.py' is in the same directory, this import should work\n",
        "try:\n",
        "    from Senti import extract_video_id, analyze_sentiment, bar_chart, plot_sentiment\n",
        "except ModuleNotFoundError:\n",
        "    print(\"Error: Could not find the 'Senti' module. Make sure 'Senti.py' is in the same directory.\")\n",
        "\n",
        "# Corrected import statement\n",
        "from youtube_comment_scraper_python import * # Import all functions from the corrected module name\n",
        "\n",
        "# Rest of your code..."
      ]
    },
    {
      "cell_type": "code",
      "execution_count": null,
      "id": "be8ad2af",
      "metadata": {
        "id": "be8ad2af"
      },
      "outputs": [],
      "source": []
    },
    {
      "cell_type": "code",
      "execution_count": 5,
      "id": "86cb35df",
      "metadata": {
        "id": "86cb35df"
      },
      "outputs": [],
      "source": [
        "def delete_non_matching_csv_files(directory_path, video_id):\n",
        "    for file_name in os.listdir(directory_path):\n",
        "        if not file_name.endswith('.csv'):\n",
        "            continue\n",
        "        if file_name == f'{video_id}.csv':\n",
        "            continue\n",
        "        os.remove(os.path.join(directory_path, file_name))"
      ]
    },
    {
      "cell_type": "code",
      "execution_count": 6,
      "id": "992b4c9d",
      "metadata": {
        "lines_to_next_cell": 2,
        "colab": {
          "base_uri": "https://localhost:8080/"
        },
        "id": "992b4c9d",
        "outputId": "8c89c17a-21b6-48fc-df59-00bcc16e96fa"
      },
      "outputs": [
        {
          "output_type": "stream",
          "name": "stderr",
          "text": [
            "2024-08-08 06:54:30.714 \n",
            "  \u001b[33m\u001b[1mWarning:\u001b[0m to view this Streamlit app on a browser, run it with the following\n",
            "  command:\n",
            "\n",
            "    streamlit run /usr/local/lib/python3.10/dist-packages/colab_kernel_launcher.py [ARGUMENTS]\n",
            "2024-08-08 06:54:30.717 Session state does not function when running a script without `streamlit run`\n"
          ]
        },
        {
          "output_type": "execute_result",
          "data": {
            "text/plain": [
              "DeltaGenerator()"
            ]
          },
          "metadata": {},
          "execution_count": 6
        }
      ],
      "source": [
        "st.set_page_config(page_title='Jatin_Agrawal_20BCS6606', page_icon = 'LOGO.png', initial_sidebar_state = 'auto')\n",
        "#st.set_page_config(page_title=None, page_icon=None, layout=\"centered\", initial_sidebar_state=\"auto\", menu_items=None)\n",
        "st.sidebar.title(\"Sentimental Analsis\")\n",
        "st.sidebar.header(\"Enter YouTube Link\")\n",
        "youtube_link = st.sidebar.text_input(\"Link\")\n",
        "directory_path = os.getcwd()\n",
        "hide_st_style = \"\"\"\n",
        "            <style>\n",
        "            #MainMenu {visibility: hidden;}\n",
        "            footer {visibility: hidden;}\n",
        "            </style>\n",
        "            \"\"\"\n",
        "st.markdown(hide_st_style, unsafe_allow_html=True)"
      ]
    },
    {
      "cell_type": "code",
      "execution_count": 7,
      "id": "20797356",
      "metadata": {
        "id": "20797356"
      },
      "outputs": [],
      "source": [
        "if youtube_link:\n",
        "    video_id = extract_video_id(youtube_link)\n",
        "    channel_id = get_channel_id(video_id)\n",
        "    if video_id:\n",
        "        st.sidebar.write(\"The video ID is:\", video_id)\n",
        "        csv_file = save_video_comments_to_csv(video_id)\n",
        "        delete_non_matching_csv_files(directory_path,video_id)\n",
        "        st.sidebar.write(\"Comments saved to CSV!\")\n",
        "        st.sidebar.download_button(label=\"Download Comments\", data=open(csv_file, 'rb').read(), file_name=os.path.basename(csv_file), mime=\"text/csv\")\n",
        "\n",
        "        #using fn\n",
        "        channel_info = get_channel_info(youtube,channel_id)\n",
        "\n",
        "        col1, col2 = st.columns(2)\n",
        "\n",
        "        with col1:\n",
        "           channel_logo_url = channel_info['channel_logo_url']\n",
        "           st.image(channel_logo_url, width=250)\n",
        "\n",
        "        with col2:\n",
        "           channel_title = channel_info['channel_title']\n",
        "           st.title(' ')\n",
        "           st.text(\"  YouTube Channel Name  \")\n",
        "           #st.markdown('** YouTube Channel Name **')\n",
        "           st.title(channel_title)\n",
        "           st.title(\"  \")\n",
        "           st.title(\" \")\n",
        "           st.title(\" \")\n",
        "\n",
        "\n",
        "        #Using fn\n",
        "\n",
        "\n",
        "\n",
        "        st.title(\" \")\n",
        "        col3, col4 ,col5 = st.columns(3)\n",
        "\n",
        "\n",
        "        with col3:\n",
        "           video_count=channel_info['video_count']\n",
        "           st.header(\"  Total Videos  \")\n",
        "           #st.subheader(\"Total Videos\")\n",
        "           st.subheader(video_count)\n",
        "\n",
        "        with col4:\n",
        "           channel_created_date= channel_info['channel_created_date']\n",
        "           created_date = channel_created_date[:10]\n",
        "           st.header(\"Channel Created \")\n",
        "           st.subheader(created_date)\n",
        "\n",
        "        with col5:\n",
        "\n",
        "            st.header(\" Subscriber_Count \")\n",
        "            st.subheader(channel_info[\"subscriber_count\"])\n",
        "\n",
        "        st.title(\" \")\n",
        "\n",
        "        stats = get_video_stats(video_id)\n",
        "\n",
        "        st.title(\"Video Information :\")\n",
        "        col6, col7 ,col8 = st.columns(3)\n",
        "\n",
        "\n",
        "        with col6:\n",
        "            st.header(\"  Total Views  \")\n",
        "           #st.subheader(\"Total Videos\")\n",
        "            st.subheader(stats[\"viewCount\"])\n",
        "\n",
        "        with col7:\n",
        "           st.header(\" Like Count \")\n",
        "           st.subheader(stats[\"likeCount\"])\n",
        "\n",
        "\n",
        "        with col8:\n",
        "\n",
        "            st.header(\" Comment Count \")\n",
        "            st.subheader(stats[\"commentCount\"])\n",
        "\n",
        "        st.header(\" \")\n",
        "\n",
        "\n",
        "        _, container, _ = st.columns([10, 80, 10])\n",
        "        container.video(data=youtube_link)\n",
        "\n",
        "\n",
        "\n",
        "\n",
        "\n",
        "        results = analyze_sentiment(csv_file)\n",
        "\n",
        "\n",
        "        col9, col10 ,col11 = st.columns(3)\n",
        "\n",
        "\n",
        "        with col9:\n",
        "            st.header(\"  Positive Comments  \")\n",
        "           #st.subheader(\"Total Videos\")\n",
        "            st.subheader(results['num_positive'])\n",
        "\n",
        "        with col10:\n",
        "           st.header(\" Negative Comments \")\n",
        "           st.subheader( results['num_negative'])\n",
        "\n",
        "\n",
        "        with col11:\n",
        "\n",
        "            st.header(\" Neutral Comments \")\n",
        "            st.subheader(results['num_neutral'])\n",
        "\n",
        "\n",
        "        bar_chart(csv_file)\n",
        "\n",
        "        plot_sentiment(csv_file)\n",
        "\n",
        "\n",
        "        st.subheader(\"Channel Description \")\n",
        "        channel_description = channel_info['channel_description']\n",
        "        st.write(channel_description)\n",
        "\n",
        "    else:\n",
        "        st.error(\"Invalid YouTube link\")"
      ]
    },
    {
      "cell_type": "code",
      "execution_count": null,
      "id": "c4b22ef0",
      "metadata": {
        "id": "c4b22ef0"
      },
      "outputs": [],
      "source": [
        ""
      ]
    },
    {
      "cell_type": "code",
      "execution_count": null,
      "id": "482bc292",
      "metadata": {
        "id": "482bc292"
      },
      "outputs": [],
      "source": [
        ""
      ]
    },
    {
      "cell_type": "code",
      "execution_count": null,
      "id": "788024ee",
      "metadata": {
        "id": "788024ee"
      },
      "outputs": [],
      "source": [
        ""
      ]
    },
    {
      "cell_type": "code",
      "execution_count": null,
      "id": "699d5833",
      "metadata": {
        "lines_to_next_cell": 2,
        "id": "699d5833"
      },
      "outputs": [],
      "source": []
    }
  ],
  "metadata": {
    "jupytext": {
      "cell_metadata_filter": "-all",
      "main_language": "python",
      "notebook_metadata_filter": "-all"
    },
    "colab": {
      "provenance": [],
      "include_colab_link": true
    },
    "language_info": {
      "name": "python"
    },
    "kernelspec": {
      "name": "python3",
      "display_name": "Python 3"
    }
  },
  "nbformat": 4,
  "nbformat_minor": 5
}